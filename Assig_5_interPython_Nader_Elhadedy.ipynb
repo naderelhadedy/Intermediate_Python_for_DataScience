{
  "nbformat": 4,
  "nbformat_minor": 0,
  "metadata": {
    "colab": {
      "name": "Assig_5_interPython_Nader_Elhadedy.ipynb",
      "provenance": [],
      "collapsed_sections": []
    },
    "kernelspec": {
      "display_name": "Python 3",
      "language": "python",
      "name": "python3"
    },
    "language_info": {
      "codemirror_mode": {
        "name": "ipython",
        "version": 3
      },
      "file_extension": ".py",
      "mimetype": "text/x-python",
      "name": "python",
      "nbconvert_exporter": "python",
      "pygments_lexer": "ipython3",
      "version": "3.8.3"
    }
  },
  "cells": [
    {
      "cell_type": "markdown",
      "metadata": {
        "id": "8LneSHnnmZkb"
      },
      "source": [
        "> # **Nader Mohamed Elhadedy**"
      ]
    },
    {
      "cell_type": "markdown",
      "metadata": {
        "id": "R_QL9UDicDZ1"
      },
      "source": [
        "# What is Exploratory Data Analysis(EDA)?\n",
        "If we want to explain EDA in simple terms, it means trying to understand the given data much better, so that we can make some sense out of it."
      ]
    },
    {
      "cell_type": "markdown",
      "metadata": {
        "id": "Q3Mh-eKRcQA-"
      },
      "source": [
        "In statistics, exploratory data analysis is an approach to analyzing data sets to summarize their main characteristics, often with visual methods. A statistical model can be used or not, but primarily EDA is for seeing what the data can tell us beyond the formal modeling or hypothesis testing task.\n",
        "EDA in Python uses data visualization to draw meaningful patterns and insights. It also involves the preparation of data sets for analysis by removing irregularities in the data."
      ]
    },
    {
      "cell_type": "markdown",
      "metadata": {
        "id": "CJzhsZgdcdMS"
      },
      "source": [
        "# Data Sourcing"
      ]
    },
    {
      "cell_type": "markdown",
      "metadata": {
        "id": "Y7hA2dlTcfy7"
      },
      "source": [
        "Data Sourcing is the process of finding and loading the data into our system. Broadly there are two ways in which we can find data.\n",
        "\n",
        "1. Private Data\n",
        "2. Public Data"
      ]
    },
    {
      "cell_type": "markdown",
      "metadata": {
        "id": "Si2toJiYclH7"
      },
      "source": [
        "**Private Data**\n",
        "\n",
        "As the name suggests, private data is given by private organizations. There are some security and privacy concerns attached to it. This type of data is used for mainly organizations internal analysis.\n",
        "\n",
        "**Public Data**\n",
        "\n",
        "This type of Data is available to everyone. We can find this in government websites and public organizations etc. Anyone can access this data, we do not need any special permissions or approval."
      ]
    },
    {
      "cell_type": "markdown",
      "metadata": {
        "id": "ths3Pvy6ctwx"
      },
      "source": [
        "The very first step of EDA is Data Sourcing\n"
      ]
    },
    {
      "cell_type": "markdown",
      "metadata": {
        "id": "wf3Tt04qc1IP"
      },
      "source": [
        "## Import the necessary libraries and store the data in our system for analysis."
      ]
    },
    {
      "cell_type": "code",
      "metadata": {
        "id": "8bsqfxPkcACf",
        "colab": {
          "base_uri": "https://localhost:8080/",
          "height": 309
        },
        "outputId": "766d3887-9af8-420f-a38d-c9d3736b88f8"
      },
      "source": [
        "# First Step \n",
        "import pandas as pd\n",
        "\n",
        "df = pd.read_csv('Marketing_Analysis.csv', header=2)\n",
        "\n",
        "df.head()"
      ],
      "execution_count": 1,
      "outputs": [
        {
          "output_type": "execute_result",
          "data": {
            "text/html": [
              "<div>\n",
              "<style scoped>\n",
              "    .dataframe tbody tr th:only-of-type {\n",
              "        vertical-align: middle;\n",
              "    }\n",
              "\n",
              "    .dataframe tbody tr th {\n",
              "        vertical-align: top;\n",
              "    }\n",
              "\n",
              "    .dataframe thead th {\n",
              "        text-align: right;\n",
              "    }\n",
              "</style>\n",
              "<table border=\"1\" class=\"dataframe\">\n",
              "  <thead>\n",
              "    <tr style=\"text-align: right;\">\n",
              "      <th></th>\n",
              "      <th>customerid</th>\n",
              "      <th>age</th>\n",
              "      <th>salary</th>\n",
              "      <th>balance</th>\n",
              "      <th>marital</th>\n",
              "      <th>jobedu</th>\n",
              "      <th>targeted</th>\n",
              "      <th>default</th>\n",
              "      <th>housing</th>\n",
              "      <th>loan</th>\n",
              "      <th>contact</th>\n",
              "      <th>day</th>\n",
              "      <th>month</th>\n",
              "      <th>duration</th>\n",
              "      <th>campaign</th>\n",
              "      <th>pdays</th>\n",
              "      <th>previous</th>\n",
              "      <th>poutcome</th>\n",
              "      <th>response</th>\n",
              "    </tr>\n",
              "  </thead>\n",
              "  <tbody>\n",
              "    <tr>\n",
              "      <th>0</th>\n",
              "      <td>1</td>\n",
              "      <td>58.0</td>\n",
              "      <td>100000</td>\n",
              "      <td>2143</td>\n",
              "      <td>married</td>\n",
              "      <td>management,tertiary</td>\n",
              "      <td>yes</td>\n",
              "      <td>no</td>\n",
              "      <td>yes</td>\n",
              "      <td>no</td>\n",
              "      <td>unknown</td>\n",
              "      <td>5</td>\n",
              "      <td>may, 2017</td>\n",
              "      <td>261 sec</td>\n",
              "      <td>1</td>\n",
              "      <td>-1</td>\n",
              "      <td>0</td>\n",
              "      <td>unknown</td>\n",
              "      <td>no</td>\n",
              "    </tr>\n",
              "    <tr>\n",
              "      <th>1</th>\n",
              "      <td>2</td>\n",
              "      <td>44.0</td>\n",
              "      <td>60000</td>\n",
              "      <td>29</td>\n",
              "      <td>single</td>\n",
              "      <td>technician,secondary</td>\n",
              "      <td>yes</td>\n",
              "      <td>no</td>\n",
              "      <td>yes</td>\n",
              "      <td>no</td>\n",
              "      <td>unknown</td>\n",
              "      <td>5</td>\n",
              "      <td>may, 2017</td>\n",
              "      <td>151 sec</td>\n",
              "      <td>1</td>\n",
              "      <td>-1</td>\n",
              "      <td>0</td>\n",
              "      <td>unknown</td>\n",
              "      <td>no</td>\n",
              "    </tr>\n",
              "    <tr>\n",
              "      <th>2</th>\n",
              "      <td>3</td>\n",
              "      <td>33.0</td>\n",
              "      <td>120000</td>\n",
              "      <td>2</td>\n",
              "      <td>married</td>\n",
              "      <td>entrepreneur,secondary</td>\n",
              "      <td>yes</td>\n",
              "      <td>no</td>\n",
              "      <td>yes</td>\n",
              "      <td>yes</td>\n",
              "      <td>unknown</td>\n",
              "      <td>5</td>\n",
              "      <td>may, 2017</td>\n",
              "      <td>76 sec</td>\n",
              "      <td>1</td>\n",
              "      <td>-1</td>\n",
              "      <td>0</td>\n",
              "      <td>unknown</td>\n",
              "      <td>no</td>\n",
              "    </tr>\n",
              "    <tr>\n",
              "      <th>3</th>\n",
              "      <td>4</td>\n",
              "      <td>47.0</td>\n",
              "      <td>20000</td>\n",
              "      <td>1506</td>\n",
              "      <td>married</td>\n",
              "      <td>blue-collar,unknown</td>\n",
              "      <td>no</td>\n",
              "      <td>no</td>\n",
              "      <td>yes</td>\n",
              "      <td>no</td>\n",
              "      <td>unknown</td>\n",
              "      <td>5</td>\n",
              "      <td>may, 2017</td>\n",
              "      <td>92 sec</td>\n",
              "      <td>1</td>\n",
              "      <td>-1</td>\n",
              "      <td>0</td>\n",
              "      <td>unknown</td>\n",
              "      <td>no</td>\n",
              "    </tr>\n",
              "    <tr>\n",
              "      <th>4</th>\n",
              "      <td>5</td>\n",
              "      <td>33.0</td>\n",
              "      <td>0</td>\n",
              "      <td>1</td>\n",
              "      <td>single</td>\n",
              "      <td>unknown,unknown</td>\n",
              "      <td>no</td>\n",
              "      <td>no</td>\n",
              "      <td>no</td>\n",
              "      <td>no</td>\n",
              "      <td>unknown</td>\n",
              "      <td>5</td>\n",
              "      <td>may, 2017</td>\n",
              "      <td>198 sec</td>\n",
              "      <td>1</td>\n",
              "      <td>-1</td>\n",
              "      <td>0</td>\n",
              "      <td>unknown</td>\n",
              "      <td>no</td>\n",
              "    </tr>\n",
              "  </tbody>\n",
              "</table>\n",
              "</div>"
            ],
            "text/plain": [
              "   customerid   age  salary  balance  ... pdays previous poutcome response\n",
              "0           1  58.0  100000     2143  ...    -1        0  unknown       no\n",
              "1           2  44.0   60000       29  ...    -1        0  unknown       no\n",
              "2           3  33.0  120000        2  ...    -1        0  unknown       no\n",
              "3           4  47.0   20000     1506  ...    -1        0  unknown       no\n",
              "4           5  33.0       0        1  ...    -1        0  unknown       no\n",
              "\n",
              "[5 rows x 19 columns]"
            ]
          },
          "metadata": {
            "tags": []
          },
          "execution_count": 1
        }
      ]
    },
    {
      "cell_type": "markdown",
      "metadata": {
        "id": "BJZG4xFQdT3f"
      },
      "source": [
        "## Rreturn the first 10 rows for the object based on position. "
      ]
    },
    {
      "cell_type": "code",
      "metadata": {
        "id": "-Bbn7_ymdEo_",
        "colab": {
          "base_uri": "https://localhost:8080/",
          "height": 549
        },
        "outputId": "417f52a9-b8f0-48e4-be93-3381e0bb5f95"
      },
      "source": [
        "# Fixing Rows and Columns\n",
        "df.head(10)"
      ],
      "execution_count": 2,
      "outputs": [
        {
          "output_type": "execute_result",
          "data": {
            "text/html": [
              "<div>\n",
              "<style scoped>\n",
              "    .dataframe tbody tr th:only-of-type {\n",
              "        vertical-align: middle;\n",
              "    }\n",
              "\n",
              "    .dataframe tbody tr th {\n",
              "        vertical-align: top;\n",
              "    }\n",
              "\n",
              "    .dataframe thead th {\n",
              "        text-align: right;\n",
              "    }\n",
              "</style>\n",
              "<table border=\"1\" class=\"dataframe\">\n",
              "  <thead>\n",
              "    <tr style=\"text-align: right;\">\n",
              "      <th></th>\n",
              "      <th>customerid</th>\n",
              "      <th>age</th>\n",
              "      <th>salary</th>\n",
              "      <th>balance</th>\n",
              "      <th>marital</th>\n",
              "      <th>jobedu</th>\n",
              "      <th>targeted</th>\n",
              "      <th>default</th>\n",
              "      <th>housing</th>\n",
              "      <th>loan</th>\n",
              "      <th>contact</th>\n",
              "      <th>day</th>\n",
              "      <th>month</th>\n",
              "      <th>duration</th>\n",
              "      <th>campaign</th>\n",
              "      <th>pdays</th>\n",
              "      <th>previous</th>\n",
              "      <th>poutcome</th>\n",
              "      <th>response</th>\n",
              "    </tr>\n",
              "  </thead>\n",
              "  <tbody>\n",
              "    <tr>\n",
              "      <th>0</th>\n",
              "      <td>1</td>\n",
              "      <td>58.0</td>\n",
              "      <td>100000</td>\n",
              "      <td>2143</td>\n",
              "      <td>married</td>\n",
              "      <td>management,tertiary</td>\n",
              "      <td>yes</td>\n",
              "      <td>no</td>\n",
              "      <td>yes</td>\n",
              "      <td>no</td>\n",
              "      <td>unknown</td>\n",
              "      <td>5</td>\n",
              "      <td>may, 2017</td>\n",
              "      <td>261 sec</td>\n",
              "      <td>1</td>\n",
              "      <td>-1</td>\n",
              "      <td>0</td>\n",
              "      <td>unknown</td>\n",
              "      <td>no</td>\n",
              "    </tr>\n",
              "    <tr>\n",
              "      <th>1</th>\n",
              "      <td>2</td>\n",
              "      <td>44.0</td>\n",
              "      <td>60000</td>\n",
              "      <td>29</td>\n",
              "      <td>single</td>\n",
              "      <td>technician,secondary</td>\n",
              "      <td>yes</td>\n",
              "      <td>no</td>\n",
              "      <td>yes</td>\n",
              "      <td>no</td>\n",
              "      <td>unknown</td>\n",
              "      <td>5</td>\n",
              "      <td>may, 2017</td>\n",
              "      <td>151 sec</td>\n",
              "      <td>1</td>\n",
              "      <td>-1</td>\n",
              "      <td>0</td>\n",
              "      <td>unknown</td>\n",
              "      <td>no</td>\n",
              "    </tr>\n",
              "    <tr>\n",
              "      <th>2</th>\n",
              "      <td>3</td>\n",
              "      <td>33.0</td>\n",
              "      <td>120000</td>\n",
              "      <td>2</td>\n",
              "      <td>married</td>\n",
              "      <td>entrepreneur,secondary</td>\n",
              "      <td>yes</td>\n",
              "      <td>no</td>\n",
              "      <td>yes</td>\n",
              "      <td>yes</td>\n",
              "      <td>unknown</td>\n",
              "      <td>5</td>\n",
              "      <td>may, 2017</td>\n",
              "      <td>76 sec</td>\n",
              "      <td>1</td>\n",
              "      <td>-1</td>\n",
              "      <td>0</td>\n",
              "      <td>unknown</td>\n",
              "      <td>no</td>\n",
              "    </tr>\n",
              "    <tr>\n",
              "      <th>3</th>\n",
              "      <td>4</td>\n",
              "      <td>47.0</td>\n",
              "      <td>20000</td>\n",
              "      <td>1506</td>\n",
              "      <td>married</td>\n",
              "      <td>blue-collar,unknown</td>\n",
              "      <td>no</td>\n",
              "      <td>no</td>\n",
              "      <td>yes</td>\n",
              "      <td>no</td>\n",
              "      <td>unknown</td>\n",
              "      <td>5</td>\n",
              "      <td>may, 2017</td>\n",
              "      <td>92 sec</td>\n",
              "      <td>1</td>\n",
              "      <td>-1</td>\n",
              "      <td>0</td>\n",
              "      <td>unknown</td>\n",
              "      <td>no</td>\n",
              "    </tr>\n",
              "    <tr>\n",
              "      <th>4</th>\n",
              "      <td>5</td>\n",
              "      <td>33.0</td>\n",
              "      <td>0</td>\n",
              "      <td>1</td>\n",
              "      <td>single</td>\n",
              "      <td>unknown,unknown</td>\n",
              "      <td>no</td>\n",
              "      <td>no</td>\n",
              "      <td>no</td>\n",
              "      <td>no</td>\n",
              "      <td>unknown</td>\n",
              "      <td>5</td>\n",
              "      <td>may, 2017</td>\n",
              "      <td>198 sec</td>\n",
              "      <td>1</td>\n",
              "      <td>-1</td>\n",
              "      <td>0</td>\n",
              "      <td>unknown</td>\n",
              "      <td>no</td>\n",
              "    </tr>\n",
              "    <tr>\n",
              "      <th>5</th>\n",
              "      <td>6</td>\n",
              "      <td>35.0</td>\n",
              "      <td>100000</td>\n",
              "      <td>231</td>\n",
              "      <td>married</td>\n",
              "      <td>management,tertiary</td>\n",
              "      <td>yes</td>\n",
              "      <td>no</td>\n",
              "      <td>yes</td>\n",
              "      <td>no</td>\n",
              "      <td>unknown</td>\n",
              "      <td>5</td>\n",
              "      <td>may, 2017</td>\n",
              "      <td>139 sec</td>\n",
              "      <td>1</td>\n",
              "      <td>-1</td>\n",
              "      <td>0</td>\n",
              "      <td>unknown</td>\n",
              "      <td>no</td>\n",
              "    </tr>\n",
              "    <tr>\n",
              "      <th>6</th>\n",
              "      <td>7</td>\n",
              "      <td>28.0</td>\n",
              "      <td>100000</td>\n",
              "      <td>447</td>\n",
              "      <td>single</td>\n",
              "      <td>management,tertiary</td>\n",
              "      <td>no</td>\n",
              "      <td>no</td>\n",
              "      <td>yes</td>\n",
              "      <td>yes</td>\n",
              "      <td>unknown</td>\n",
              "      <td>5</td>\n",
              "      <td>may, 2017</td>\n",
              "      <td>217 sec</td>\n",
              "      <td>1</td>\n",
              "      <td>-1</td>\n",
              "      <td>0</td>\n",
              "      <td>unknown</td>\n",
              "      <td>no</td>\n",
              "    </tr>\n",
              "    <tr>\n",
              "      <th>7</th>\n",
              "      <td>8</td>\n",
              "      <td>42.0</td>\n",
              "      <td>120000</td>\n",
              "      <td>2</td>\n",
              "      <td>divorced</td>\n",
              "      <td>entrepreneur,tertiary</td>\n",
              "      <td>no</td>\n",
              "      <td>yes</td>\n",
              "      <td>yes</td>\n",
              "      <td>no</td>\n",
              "      <td>unknown</td>\n",
              "      <td>5</td>\n",
              "      <td>may, 2017</td>\n",
              "      <td>380 sec</td>\n",
              "      <td>1</td>\n",
              "      <td>-1</td>\n",
              "      <td>0</td>\n",
              "      <td>unknown</td>\n",
              "      <td>no</td>\n",
              "    </tr>\n",
              "    <tr>\n",
              "      <th>8</th>\n",
              "      <td>9</td>\n",
              "      <td>58.0</td>\n",
              "      <td>55000</td>\n",
              "      <td>121</td>\n",
              "      <td>married</td>\n",
              "      <td>retired,primary</td>\n",
              "      <td>yes</td>\n",
              "      <td>no</td>\n",
              "      <td>yes</td>\n",
              "      <td>no</td>\n",
              "      <td>unknown</td>\n",
              "      <td>5</td>\n",
              "      <td>may, 2017</td>\n",
              "      <td>50 sec</td>\n",
              "      <td>1</td>\n",
              "      <td>-1</td>\n",
              "      <td>0</td>\n",
              "      <td>unknown</td>\n",
              "      <td>no</td>\n",
              "    </tr>\n",
              "    <tr>\n",
              "      <th>9</th>\n",
              "      <td>10</td>\n",
              "      <td>43.0</td>\n",
              "      <td>60000</td>\n",
              "      <td>593</td>\n",
              "      <td>single</td>\n",
              "      <td>technician,secondary</td>\n",
              "      <td>yes</td>\n",
              "      <td>no</td>\n",
              "      <td>yes</td>\n",
              "      <td>no</td>\n",
              "      <td>unknown</td>\n",
              "      <td>5</td>\n",
              "      <td>may, 2017</td>\n",
              "      <td>55 sec</td>\n",
              "      <td>1</td>\n",
              "      <td>-1</td>\n",
              "      <td>0</td>\n",
              "      <td>unknown</td>\n",
              "      <td>no</td>\n",
              "    </tr>\n",
              "  </tbody>\n",
              "</table>\n",
              "</div>"
            ],
            "text/plain": [
              "   customerid   age  salary  balance  ... pdays previous poutcome response\n",
              "0           1  58.0  100000     2143  ...    -1        0  unknown       no\n",
              "1           2  44.0   60000       29  ...    -1        0  unknown       no\n",
              "2           3  33.0  120000        2  ...    -1        0  unknown       no\n",
              "3           4  47.0   20000     1506  ...    -1        0  unknown       no\n",
              "4           5  33.0       0        1  ...    -1        0  unknown       no\n",
              "5           6  35.0  100000      231  ...    -1        0  unknown       no\n",
              "6           7  28.0  100000      447  ...    -1        0  unknown       no\n",
              "7           8  42.0  120000        2  ...    -1        0  unknown       no\n",
              "8           9  58.0   55000      121  ...    -1        0  unknown       no\n",
              "9          10  43.0   60000      593  ...    -1        0  unknown       no\n",
              "\n",
              "[10 rows x 19 columns]"
            ]
          },
          "metadata": {
            "tags": []
          },
          "execution_count": 2
        }
      ]
    },
    {
      "cell_type": "markdown",
      "metadata": {
        "id": "FurEEKA7dBrD"
      },
      "source": [
        "# Data Cleaning"
      ]
    },
    {
      "cell_type": "markdown",
      "metadata": {
        "id": "M3s6JxSldEL8"
      },
      "source": [
        "It is very important to get rid of the irregularities and clean the data after sourcing it into our system.\n"
      ]
    },
    {
      "cell_type": "markdown",
      "metadata": {
        "id": "mFLJVtXodGXr"
      },
      "source": [
        "Irregularities are of different types of data.\n",
        "\n",
        "* Missing Values\n",
        "* Incorrect Format\n",
        "* Incorrect Headers\n",
        "* Anomalies/Outliers"
      ]
    },
    {
      "cell_type": "code",
      "metadata": {
        "colab": {
          "base_uri": "https://localhost:8080/"
        },
        "id": "_hCxh_wDXQKM",
        "outputId": "d8b49b73-ff9b-4412-aa4a-b918b3087006"
      },
      "source": [
        "df.dtypes"
      ],
      "execution_count": 3,
      "outputs": [
        {
          "output_type": "execute_result",
          "data": {
            "text/plain": [
              "customerid      int64\n",
              "age           float64\n",
              "salary          int64\n",
              "balance         int64\n",
              "marital        object\n",
              "jobedu         object\n",
              "targeted       object\n",
              "default        object\n",
              "housing        object\n",
              "loan           object\n",
              "contact        object\n",
              "day             int64\n",
              "month          object\n",
              "duration       object\n",
              "campaign        int64\n",
              "pdays           int64\n",
              "previous        int64\n",
              "poutcome       object\n",
              "response       object\n",
              "dtype: object"
            ]
          },
          "metadata": {
            "tags": []
          },
          "execution_count": 3
        }
      ]
    },
    {
      "cell_type": "markdown",
      "metadata": {
        "id": "CNc8AWHLdwCt"
      },
      "source": [
        "**Following are the steps to be taken while Fixing Rows and Columns:**\n",
        "1. Delete Summary Rows and Columns in the Dataset.\n",
        "2. Delete Header and Footer Rows on every page.\n",
        "3. Delete Extra Rows like blank rows, page numbers, etc.\n",
        "4. We can merge different columns if it makes for better understanding of the data\n",
        "5. Similarly, we can also split one column into multiple columns based on our requirements or understanding.\n",
        "6. Add Column names, it is very important to have column names to the dataset.\n"
      ]
    },
    {
      "cell_type": "markdown",
      "metadata": {
        "id": "VccemUo4eCXS"
      },
      "source": [
        "## Missing Values\n"
      ]
    },
    {
      "cell_type": "markdown",
      "metadata": {
        "id": "STizqtDBeJUH"
      },
      "source": [
        "Let’s see which columns have missing values in the dataset.\n"
      ]
    },
    {
      "cell_type": "code",
      "metadata": {
        "id": "YAmUBwFMd_Id",
        "colab": {
          "base_uri": "https://localhost:8080/"
        },
        "outputId": "dca38f3f-a759-42bd-d6cf-aefee4555e39"
      },
      "source": [
        "# Let’s see which columns have missing values in the dataset.\n",
        "df.info()"
      ],
      "execution_count": 4,
      "outputs": [
        {
          "output_type": "stream",
          "text": [
            "<class 'pandas.core.frame.DataFrame'>\n",
            "RangeIndex: 45211 entries, 0 to 45210\n",
            "Data columns (total 19 columns):\n",
            " #   Column      Non-Null Count  Dtype  \n",
            "---  ------      --------------  -----  \n",
            " 0   customerid  45211 non-null  int64  \n",
            " 1   age         45191 non-null  float64\n",
            " 2   salary      45211 non-null  int64  \n",
            " 3   balance     45211 non-null  int64  \n",
            " 4   marital     45211 non-null  object \n",
            " 5   jobedu      45211 non-null  object \n",
            " 6   targeted    45211 non-null  object \n",
            " 7   default     45211 non-null  object \n",
            " 8   housing     45211 non-null  object \n",
            " 9   loan        45211 non-null  object \n",
            " 10  contact     45211 non-null  object \n",
            " 11  day         45211 non-null  int64  \n",
            " 12  month       45161 non-null  object \n",
            " 13  duration    45211 non-null  object \n",
            " 14  campaign    45211 non-null  int64  \n",
            " 15  pdays       45211 non-null  int64  \n",
            " 16  previous    45211 non-null  int64  \n",
            " 17  poutcome    45211 non-null  object \n",
            " 18  response    45181 non-null  object \n",
            "dtypes: float64(1), int64(7), object(11)\n",
            "memory usage: 6.6+ MB\n"
          ],
          "name": "stdout"
        }
      ]
    },
    {
      "cell_type": "code",
      "metadata": {
        "colab": {
          "base_uri": "https://localhost:8080/",
          "height": 297
        },
        "id": "wMJYQfTOZgaA",
        "outputId": "e0b050d8-10b0-4027-91eb-15738e64cbf8"
      },
      "source": [
        "df.describe()"
      ],
      "execution_count": 5,
      "outputs": [
        {
          "output_type": "execute_result",
          "data": {
            "text/html": [
              "<div>\n",
              "<style scoped>\n",
              "    .dataframe tbody tr th:only-of-type {\n",
              "        vertical-align: middle;\n",
              "    }\n",
              "\n",
              "    .dataframe tbody tr th {\n",
              "        vertical-align: top;\n",
              "    }\n",
              "\n",
              "    .dataframe thead th {\n",
              "        text-align: right;\n",
              "    }\n",
              "</style>\n",
              "<table border=\"1\" class=\"dataframe\">\n",
              "  <thead>\n",
              "    <tr style=\"text-align: right;\">\n",
              "      <th></th>\n",
              "      <th>customerid</th>\n",
              "      <th>age</th>\n",
              "      <th>salary</th>\n",
              "      <th>balance</th>\n",
              "      <th>day</th>\n",
              "      <th>campaign</th>\n",
              "      <th>pdays</th>\n",
              "      <th>previous</th>\n",
              "    </tr>\n",
              "  </thead>\n",
              "  <tbody>\n",
              "    <tr>\n",
              "      <th>count</th>\n",
              "      <td>45211.000000</td>\n",
              "      <td>45191.000000</td>\n",
              "      <td>45211.000000</td>\n",
              "      <td>45211.000000</td>\n",
              "      <td>45211.000000</td>\n",
              "      <td>45211.000000</td>\n",
              "      <td>45211.000000</td>\n",
              "      <td>45211.000000</td>\n",
              "    </tr>\n",
              "    <tr>\n",
              "      <th>mean</th>\n",
              "      <td>22606.000000</td>\n",
              "      <td>40.935651</td>\n",
              "      <td>57006.171065</td>\n",
              "      <td>1362.272058</td>\n",
              "      <td>15.806419</td>\n",
              "      <td>2.763841</td>\n",
              "      <td>40.197828</td>\n",
              "      <td>0.580323</td>\n",
              "    </tr>\n",
              "    <tr>\n",
              "      <th>std</th>\n",
              "      <td>13051.435847</td>\n",
              "      <td>10.619198</td>\n",
              "      <td>32085.718415</td>\n",
              "      <td>3044.765829</td>\n",
              "      <td>8.322476</td>\n",
              "      <td>3.098021</td>\n",
              "      <td>100.128746</td>\n",
              "      <td>2.303441</td>\n",
              "    </tr>\n",
              "    <tr>\n",
              "      <th>min</th>\n",
              "      <td>1.000000</td>\n",
              "      <td>18.000000</td>\n",
              "      <td>0.000000</td>\n",
              "      <td>-8019.000000</td>\n",
              "      <td>1.000000</td>\n",
              "      <td>1.000000</td>\n",
              "      <td>-1.000000</td>\n",
              "      <td>0.000000</td>\n",
              "    </tr>\n",
              "    <tr>\n",
              "      <th>25%</th>\n",
              "      <td>11303.500000</td>\n",
              "      <td>33.000000</td>\n",
              "      <td>20000.000000</td>\n",
              "      <td>72.000000</td>\n",
              "      <td>8.000000</td>\n",
              "      <td>1.000000</td>\n",
              "      <td>-1.000000</td>\n",
              "      <td>0.000000</td>\n",
              "    </tr>\n",
              "    <tr>\n",
              "      <th>50%</th>\n",
              "      <td>22606.000000</td>\n",
              "      <td>39.000000</td>\n",
              "      <td>60000.000000</td>\n",
              "      <td>448.000000</td>\n",
              "      <td>16.000000</td>\n",
              "      <td>2.000000</td>\n",
              "      <td>-1.000000</td>\n",
              "      <td>0.000000</td>\n",
              "    </tr>\n",
              "    <tr>\n",
              "      <th>75%</th>\n",
              "      <td>33908.500000</td>\n",
              "      <td>48.000000</td>\n",
              "      <td>70000.000000</td>\n",
              "      <td>1428.000000</td>\n",
              "      <td>21.000000</td>\n",
              "      <td>3.000000</td>\n",
              "      <td>-1.000000</td>\n",
              "      <td>0.000000</td>\n",
              "    </tr>\n",
              "    <tr>\n",
              "      <th>max</th>\n",
              "      <td>45211.000000</td>\n",
              "      <td>95.000000</td>\n",
              "      <td>120000.000000</td>\n",
              "      <td>102127.000000</td>\n",
              "      <td>31.000000</td>\n",
              "      <td>63.000000</td>\n",
              "      <td>871.000000</td>\n",
              "      <td>275.000000</td>\n",
              "    </tr>\n",
              "  </tbody>\n",
              "</table>\n",
              "</div>"
            ],
            "text/plain": [
              "         customerid           age  ...         pdays      previous\n",
              "count  45211.000000  45191.000000  ...  45211.000000  45211.000000\n",
              "mean   22606.000000     40.935651  ...     40.197828      0.580323\n",
              "std    13051.435847     10.619198  ...    100.128746      2.303441\n",
              "min        1.000000     18.000000  ...     -1.000000      0.000000\n",
              "25%    11303.500000     33.000000  ...     -1.000000      0.000000\n",
              "50%    22606.000000     39.000000  ...     -1.000000      0.000000\n",
              "75%    33908.500000     48.000000  ...     -1.000000      0.000000\n",
              "max    45211.000000     95.000000  ...    871.000000    275.000000\n",
              "\n",
              "[8 rows x 8 columns]"
            ]
          },
          "metadata": {
            "tags": []
          },
          "execution_count": 5
        }
      ]
    },
    {
      "cell_type": "code",
      "metadata": {
        "colab": {
          "base_uri": "https://localhost:8080/"
        },
        "id": "CjDqwa4eZsbB",
        "outputId": "9ec41298-541e-4f3f-e236-47c9573ef8ff"
      },
      "source": [
        "df.isna().sum()"
      ],
      "execution_count": 6,
      "outputs": [
        {
          "output_type": "execute_result",
          "data": {
            "text/plain": [
              "customerid     0\n",
              "age           20\n",
              "salary         0\n",
              "balance        0\n",
              "marital        0\n",
              "jobedu         0\n",
              "targeted       0\n",
              "default        0\n",
              "housing        0\n",
              "loan           0\n",
              "contact        0\n",
              "day            0\n",
              "month         50\n",
              "duration       0\n",
              "campaign       0\n",
              "pdays          0\n",
              "previous       0\n",
              "poutcome       0\n",
              "response      30\n",
              "dtype: int64"
            ]
          },
          "metadata": {
            "tags": []
          },
          "execution_count": 6
        }
      ]
    },
    {
      "cell_type": "markdown",
      "metadata": {
        "id": "GTIP3ivpeMcb"
      },
      "source": [
        "Drop the missing Values\n"
      ]
    },
    {
      "cell_type": "code",
      "metadata": {
        "id": "gG6NE2vjeQUQ",
        "colab": {
          "base_uri": "https://localhost:8080/"
        },
        "outputId": "84249050-6932-49f1-ae1f-c8be9a3cc936"
      },
      "source": [
        "# Drop \n",
        "df = df.dropna()\n",
        "df.isna().sum()"
      ],
      "execution_count": 7,
      "outputs": [
        {
          "output_type": "execute_result",
          "data": {
            "text/plain": [
              "customerid    0\n",
              "age           0\n",
              "salary        0\n",
              "balance       0\n",
              "marital       0\n",
              "jobedu        0\n",
              "targeted      0\n",
              "default       0\n",
              "housing       0\n",
              "loan          0\n",
              "contact       0\n",
              "day           0\n",
              "month         0\n",
              "duration      0\n",
              "campaign      0\n",
              "pdays         0\n",
              "previous      0\n",
              "poutcome      0\n",
              "response      0\n",
              "dtype: int64"
            ]
          },
          "metadata": {
            "tags": []
          },
          "execution_count": 7
        }
      ]
    },
    {
      "cell_type": "markdown",
      "metadata": {
        "id": "gTcgCgEwegMy"
      },
      "source": [
        "## Handling Outliers\n",
        "Categorical Unordered Univariate Analysis:\n",
        "An unordered variable is a categorical variable that has no defined order. If we take our data as an example, the job column in the dataset is divided into many sub-categories like technician, blue-collar, services, management, etc. There is no weight or measure given to any value in the ‘job’ column.\n",
        "Now, let’s analyze the job category by using plots. Since Job is a category, we will plot the bar plot."
      ]
    },
    {
      "cell_type": "code",
      "metadata": {
        "id": "3xCUox_gete4",
        "colab": {
          "base_uri": "https://localhost:8080/",
          "height": 564
        },
        "outputId": "466c45f4-ca5c-455a-e350-0683d0de76e7"
      },
      "source": [
        "# Let's calculate the percentage of each job status category.\n",
        "df[['job','edu']] = df.jobedu.str.split(\",\",expand=True)\n",
        "\n",
        "df_counts = df.groupby(\"job\")[\"job\"].count()\n",
        "\n",
        "df_perc = df_counts / sum(df_counts) * 100\n",
        "\n",
        "print(df_perc)\n",
        "\n",
        "#plot the bar graph of percentage job categories\n",
        "import matplotlib.pyplot as plt\n",
        "\n",
        "df_perc.plot.bar()\n",
        "plt.xticks(rotation=45)\n",
        "plt.grid()\n",
        "plt.show()"
      ],
      "execution_count": 8,
      "outputs": [
        {
          "output_type": "stream",
          "text": [
            "job\n",
            "admin.           11.436235\n",
            "blue-collar      21.531334\n",
            "entrepreneur      3.287447\n",
            "housemaid         2.735475\n",
            "management       20.930593\n",
            "retired           5.005431\n",
            "self-employed     3.484738\n",
            "services          9.181796\n",
            "student           2.077099\n",
            "technician       16.805214\n",
            "unemployed        2.886214\n",
            "unknown           0.638425\n",
            "Name: job, dtype: float64\n"
          ],
          "name": "stdout"
        },
        {
          "output_type": "display_data",
          "data": {
            "image/png": "[encoded data removed]",
            "text/plain": [
              "<Figure size 432x288 with 1 Axes>"
            ]
          },
          "metadata": {
            "tags": [],
            "needs_background": "light"
          }
        }
      ]
    },
    {
      "cell_type": "code",
      "metadata": {
        "id": "5y11iInXe8PD",
        "colab": {
          "base_uri": "https://localhost:8080/",
          "height": 350
        },
        "outputId": "ba241927-f11c-4874-e4a5-f3fcc9c584a8"
      },
      "source": [
        "import numpy as np\n",
        "#calculate the percentage of each education category.\n",
        "df_counts_2 = df.groupby(\"edu\")[\"edu\"].count()\n",
        "df_perc_2 = df_counts_2 / sum(df_counts_2) * 100\n",
        "print(df_perc_2)\n",
        "\n",
        "#plot the pie chart of education categories\n",
        "mylabels = np.array(list(df_perc_2)).round(2)\n",
        "myexplode = [0, 0.1, 0, 0]\n",
        "df_perc_2.plot.pie(labels=mylabels, explode = myexplode)\n",
        "plt.legend([\"primary\", \"secondary\", \"tertiary\", \"unknown\"], loc='upper right', bbox_to_anchor=(1, 1, 0.5, 0))\n",
        "plt.show()"
      ],
      "execution_count": 9,
      "outputs": [
        {
          "output_type": "stream",
          "text": [
            "edu\n",
            "primary      15.140431\n",
            "secondary    51.344461\n",
            "tertiary     29.411895\n",
            "unknown       4.103212\n",
            "Name: edu, dtype: float64\n"
          ],
          "name": "stdout"
        },
        {
          "output_type": "display_data",
          "data": {
            "image/png": "[encoded data removed]",
            "text/plain": [
              "<Figure size 432x288 with 1 Axes>"
            ]
          },
          "metadata": {
            "tags": []
          }
        }
      ]
    },
    {
      "cell_type": "code",
      "metadata": {
        "id": "ISHsz6Sue9Jm",
        "colab": {
          "base_uri": "https://localhost:8080/"
        },
        "outputId": "f02bb5f6-727e-489a-c926-f152cd8a3bf9"
      },
      "source": [
        "# Describe salary column\n",
        "df[\"salary\"].describe()"
      ],
      "execution_count": 10,
      "outputs": [
        {
          "output_type": "execute_result",
          "data": {
            "text/plain": [
              "count     45111.000000\n",
              "mean      57005.785729\n",
              "std       32090.324851\n",
              "min           0.000000\n",
              "25%       20000.000000\n",
              "50%       60000.000000\n",
              "75%       70000.000000\n",
              "max      120000.000000\n",
              "Name: salary, dtype: float64"
            ]
          },
          "metadata": {
            "tags": []
          },
          "execution_count": 10
        }
      ]
    },
    {
      "cell_type": "markdown",
      "metadata": {
        "id": "loTonbTafW1L"
      },
      "source": [
        "# Visualize with Matplotlib"
      ]
    },
    {
      "cell_type": "markdown",
      "metadata": {
        "id": "qr_BBzGLfemM"
      },
      "source": [
        "## Scatter Plot\n"
      ]
    },
    {
      "cell_type": "markdown",
      "metadata": {
        "id": "rkoVjWXtfhtP"
      },
      "source": [
        "Let’s take three columns ‘Balance’, ‘Age’ and ‘Salary’ from our dataset and see what we can infer by plotting to scatter plot between salary balance and age balance\n"
      ]
    },
    {
      "cell_type": "code",
      "metadata": {
        "id": "Bv2D6QDnfcmd",
        "colab": {
          "base_uri": "https://localhost:8080/",
          "height": 541
        },
        "outputId": "b70eca86-bc4b-412f-b737-8ff189daa13c"
      },
      "source": [
        "#plot the scatter plot of balance and salary variable in data\n",
        "plt.scatter(df.balance, df.salary)\n",
        "plt.xlabel(\"balance\")\n",
        "plt.ylabel(\"salary\")\n",
        "plt.show()\n",
        "#plot the scatter plot of balance and age variable in data\n",
        "plt.scatter(df.balance, df.age)\n",
        "plt.xlabel(\"balance\")\n",
        "plt.ylabel(\"age\")\n",
        "plt.show()"
      ],
      "execution_count": 11,
      "outputs": [
        {
          "output_type": "display_data",
          "data": {
            "image/png": "[encoded data removed]",
            "text/plain": [
              "<Figure size 432x288 with 1 Axes>"
            ]
          },
          "metadata": {
            "tags": [],
            "needs_background": "light"
          }
        },
        {
          "output_type": "display_data",
          "data": {
            "image/png": "[encoded data removed]",
            "text/plain": [
              "<Figure size 432x288 with 1 Axes>"
            ]
          },
          "metadata": {
            "tags": [],
            "needs_background": "light"
          }
        }
      ]
    },
    {
      "cell_type": "markdown",
      "metadata": {
        "id": "jh42aJOGfvrr"
      },
      "source": [
        "## Pair Plot\n",
        "Now, let’s plot Pair Plots for the three columns we used in plotting Scatter plots. We’ll use the seaborn library for plotting Pair Plots."
      ]
    },
    {
      "cell_type": "code",
      "metadata": {
        "id": "Fzvwf1vJfrvf",
        "colab": {
          "base_uri": "https://localhost:8080/",
          "height": 567
        },
        "outputId": "bce20875-5cc6-4cf7-e5cb-4b8e148ed886"
      },
      "source": [
        "#plot the pair plot of salary, balance and age in data dataframe.\n",
        "import seaborn as sns\n",
        "\n",
        "df_new = df[[\"salary\", \"balance\", \"age\"]]\n",
        "sns.pairplot(df_new)"
      ],
      "execution_count": 12,
      "outputs": [
        {
          "output_type": "execute_result",
          "data": {
            "text/plain": [
              "<seaborn.axisgrid.PairGrid at 0x7fda8fdb44d0>"
            ]
          },
          "metadata": {
            "tags": []
          },
          "execution_count": 12
        },
        {
          "output_type": "display_data",
          "data": {
            "image/png": "[encoded data removed]",
            "text/plain": [
              "<Figure size 540x540 with 12 Axes>"
            ]
          },
          "metadata": {
            "tags": [],
            "needs_background": "light"
          }
        }
      ]
    },
    {
      "cell_type": "markdown",
      "metadata": {
        "id": "yuwPr5BEf327"
      },
      "source": [
        "## Correlation Matrix\n"
      ]
    },
    {
      "cell_type": "markdown",
      "metadata": {
        "id": "xMIwLcz0f6Yw"
      },
      "source": [
        "Since we cannot use more than two variables as x-axis and y-axis in Scatter and Pair Plots, it is difficult to see the relation between three numerical variables in a single graph. In those cases, we’ll use the correlation matrix.\n"
      ]
    },
    {
      "cell_type": "code",
      "metadata": {
        "id": "Dn83qNmBgEUv",
        "colab": {
          "base_uri": "https://localhost:8080/",
          "height": 311
        },
        "outputId": "5c9e470e-6d11-492a-d056-45165b05e8b0"
      },
      "source": [
        "# Creating a matrix using age, salry, balance as rows and columns\n",
        "corr_mat = df_new.corr()\n",
        "\n",
        "#plot the correlation matrix of salary, balance and age in data dataframe.\n",
        "\n",
        "#plt.matshow(corr_mat)\n",
        "\n",
        "ax = sns.heatmap(\n",
        "    corr_mat, \n",
        "    vmin=-1, vmax=1, center=0,\n",
        "    cmap=sns.diverging_palette(20, 220, n=200),\n",
        "    square=True\n",
        ")\n",
        "ax.set_xticklabels(\n",
        "    ax.get_xticklabels(),\n",
        "    rotation=45,\n",
        "    horizontalalignment='right'\n",
        ")\n",
        "ax.set_yticklabels(\n",
        "    ax.get_yticklabels(),\n",
        "    rotation=0\n",
        ")"
      ],
      "execution_count": 13,
      "outputs": [
        {
          "output_type": "execute_result",
          "data": {
            "text/plain": [
              "[Text(0, 0.5, 'salary'), Text(0, 1.5, 'balance'), Text(0, 2.5, 'age')]"
            ]
          },
          "metadata": {
            "tags": []
          },
          "execution_count": 13
        },
        {
          "output_type": "display_data",
          "data": {
            "image/png": "[encoded data removed]",
            "text/plain": [
              "<Figure size 432x288 with 2 Axes>"
            ]
          },
          "metadata": {
            "tags": [],
            "needs_background": "light"
          }
        }
      ]
    },
    {
      "cell_type": "markdown",
      "metadata": {
        "id": "qAv_tn5SgKm3"
      },
      "source": [
        "# Numeric - Categorical Analysis\n",
        "Analyzing the one numeric variable and one categorical variable from a dataset is known as numeric-categorical analysis. We analyze them mainly using mean, median, and box plots.\n",
        "Let’s take salary and response columns from our dataset.\n",
        "First check for mean value using groupby"
      ]
    },
    {
      "cell_type": "code",
      "metadata": {
        "id": "VgQU5WGCgPKP",
        "colab": {
          "base_uri": "https://localhost:8080/"
        },
        "outputId": "37b39dc2-a178-423a-d485-5a7e46123ce2"
      },
      "source": [
        "#groupby the response to find the mean of the salary with response no & yes separately.\n",
        "df_res_salary_mean = df.groupby(\"response\")['salary'].mean()\n",
        "\n",
        "res_no_mean = df_res_salary_mean['no']\n",
        "res_yes_mean = df_res_salary_mean['yes']\n",
        "\n",
        "print(res_no_mean)\n",
        "print(res_yes_mean)"
      ],
      "execution_count": 14,
      "outputs": [
        {
          "output_type": "stream",
          "text": [
            "56771.91705161679\n",
            "58770.41106270127\n"
          ],
          "name": "stdout"
        }
      ]
    },
    {
      "cell_type": "code",
      "metadata": {
        "id": "E8_7IpFLgPzs",
        "colab": {
          "base_uri": "https://localhost:8080/"
        },
        "outputId": "c18a51da-7cf8-4616-a2a9-13bf6f0b756b"
      },
      "source": [
        "#groupby the response to find the median of the salary with response no & yes separately.\n",
        "df_res_salary_median = df.groupby(\"response\")['salary'].median()\n",
        "\n",
        "res_no_median = df_res_salary_median['no']\n",
        "res_yes_median = df_res_salary_median['yes']\n",
        "\n",
        "print(res_no_median)\n",
        "print(res_yes_median)"
      ],
      "execution_count": 15,
      "outputs": [
        {
          "output_type": "stream",
          "text": [
            "60000\n",
            "60000\n"
          ],
          "name": "stdout"
        }
      ]
    },
    {
      "cell_type": "code",
      "metadata": {
        "id": "JAHCg7UbgVXO",
        "colab": {
          "base_uri": "https://localhost:8080/",
          "height": 387
        },
        "outputId": "0f80be89-8a13-4523-f521-14b0e6ade31e"
      },
      "source": [
        "#plot the box plot of salary for yes & no responses.\n",
        "df_res_sal = df.groupby(\"response\")['salary']\n",
        "sal_res_no = np.array(df_res_sal)[0,1]\n",
        "sal_res_yes = np.array(df_res_sal)[1,1]\n",
        "\n",
        "data = [sal_res_no, sal_res_yes]\n",
        "\n",
        "plt.boxplot(data)\n",
        "plt.xticks([1, 2], ['No', 'Yes'])\n",
        "plt.show()"
      ],
      "execution_count": 16,
      "outputs": [
        {
          "output_type": "stream",
          "text": [
            "/usr/local/lib/python3.7/dist-packages/ipykernel_launcher.py:3: VisibleDeprecationWarning: Creating an ndarray from ragged nested sequences (which is a list-or-tuple of lists-or-tuples-or ndarrays with different lengths or shapes) is deprecated. If you meant to do this, you must specify 'dtype=object' when creating the ndarray\n",
            "  This is separate from the ipykernel package so we can avoid doing imports until\n",
            "/usr/local/lib/python3.7/dist-packages/ipykernel_launcher.py:4: VisibleDeprecationWarning: Creating an ndarray from ragged nested sequences (which is a list-or-tuple of lists-or-tuples-or ndarrays with different lengths or shapes) is deprecated. If you meant to do this, you must specify 'dtype=object' when creating the ndarray\n",
            "  after removing the cwd from sys.path.\n",
            "/usr/local/lib/python3.7/dist-packages/numpy/core/_asarray.py:83: VisibleDeprecationWarning: Creating an ndarray from ragged nested sequences (which is a list-or-tuple of lists-or-tuples-or ndarrays with different lengths or shapes) is deprecated. If you meant to do this, you must specify 'dtype=object' when creating the ndarray\n",
            "  return array(a, dtype, copy=False, order=order)\n"
          ],
          "name": "stderr"
        },
        {
          "output_type": "display_data",
          "data": {
            "image/png": "[encoded data removed]",
            "text/plain": [
              "<Figure size 432x288 with 1 Axes>"
            ]
          },
          "metadata": {
            "tags": [],
            "needs_background": "light"
          }
        }
      ]
    },
    {
      "cell_type": "markdown",
      "metadata": {
        "id": "3nDUgQTLga4S"
      },
      "source": [
        "# Categorical — Categorical Analysis"
      ]
    },
    {
      "cell_type": "code",
      "metadata": {
        "id": "HfebfIB0gVuh",
        "colab": {
          "base_uri": "https://localhost:8080/",
          "height": 279
        },
        "outputId": "87fb13fa-20fc-4481-fbdf-967118c30737"
      },
      "source": [
        "#create response_rate of numerical data type where response \"yes\"= 1, \"no\"= 0\n",
        "df['response_rate'] = np.where(df['response'] == 'yes', 1, 0)\n",
        "df_mar_res = df.groupby(\"marital\")['response_rate'].mean()\n",
        "\n",
        "#plot the bar graph of marital status with average value of response_rate\n",
        "df_mar_res.plot.barh()\n",
        "plt.xlabel(\"average response rate\")\n",
        "plt.grid()\n",
        "plt.show()"
      ],
      "execution_count": 17,
      "outputs": [
        {
          "output_type": "display_data",
          "data": {
            "image/png": "[encoded data removed]",
            "text/plain": [
              "<Figure size 432x288 with 1 Axes>"
            ]
          },
          "metadata": {
            "tags": [],
            "needs_background": "light"
          }
        }
      ]
    },
    {
      "cell_type": "markdown",
      "metadata": {
        "id": "4oEDmKABg03I"
      },
      "source": [
        "# Multivariate Analysis\n",
        "If we analyze data by taking more than two variables/columns into consideration from a dataset, it is known as Multivariate Analysis.\n",
        "**Let’s see how ‘Education’, ‘Marital’, and ‘Response_rate’ vary with each other.**\n",
        "First, we’ll create **a pivot table** with the three columns and after that, we’ll create a **heatmap**."
      ]
    },
    {
      "cell_type": "code",
      "metadata": {
        "id": "RqATUxk3hF0t",
        "colab": {
          "base_uri": "https://localhost:8080/",
          "height": 279
        },
        "outputId": "16dd7c79-2124-4da3-ea91-ce5713f65cdc"
      },
      "source": [
        "# piovt table \n",
        "df_pivot = df[['edu','marital','response_rate']]\n",
        "table = pd.pivot_table(df_pivot, values='response_rate', index=['edu'], columns=['marital'], aggfunc=np.sum)\n",
        "\n",
        "# heatmap\n",
        "_ = sns.heatmap(table, square=True)"
      ],
      "execution_count": 18,
      "outputs": [
        {
          "output_type": "display_data",
          "data": {
            "image/png": "[encoded data removed]",
            "text/plain": [
              "<Figure size 432x288 with 2 Axes>"
            ]
          },
          "metadata": {
            "tags": [],
            "needs_background": "light"
          }
        }
      ]
    },
    {
      "cell_type": "code",
      "metadata": {
        "id": "gbS7fRonKX4f"
      },
      "source": [
        ""
      ],
      "execution_count": 18,
      "outputs": []
    }
  ]
}